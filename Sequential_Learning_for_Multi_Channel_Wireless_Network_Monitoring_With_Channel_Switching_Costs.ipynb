{
  "nbformat": 4,
  "nbformat_minor": 0,
  "metadata": {
    "colab": {
      "name": "Sequential Learning for Multi-Channel Wireless Network Monitoring With Channel Switching Costs.ipynb",
      "provenance": [],
      "collapsed_sections": []
    },
    "kernelspec": {
      "name": "python3",
      "display_name": "Python 3"
    }
  },
  "cells": [
    {
      "cell_type": "code",
      "metadata": {
        "id": "3Tdjat3r1lZF",
        "colab_type": "code",
        "colab": {}
      },
      "source": [
        "%matplotlib inline\n",
        "import matplotlib.pyplot as plt\n",
        "from matplotlib.patches import RegularPolygon\n",
        "import numpy as np\n",
        "from math import pi\n",
        "import itertools\n",
        "import random"
      ],
      "execution_count": 0,
      "outputs": []
    },
    {
      "cell_type": "code",
      "metadata": {
        "id": "sG1mmWLq1oiQ",
        "colab_type": "code",
        "colab": {}
      },
      "source": [
        "glob_range = 300\n",
        "num_of_channels = 3\n",
        "\n",
        "# APs/base stations(in this scenario) are placed on 2-D grid, at the centre of each hexagonal cell\n",
        "# count : A static variable to keep the number of instantiations i.e #APs\n",
        "# x,y : Denote the coordinates of the AP in 2-D plane\n",
        "# channel : Channel # assigned to AP\n",
        "# radius : hexagonal cell's circumcircle radius\n",
        "class AP:\n",
        "    count = 0\n",
        "    \n",
        "    def __init__(self, x, y, channel):\n",
        "        AP.count += 1\n",
        "        self.x = x\n",
        "        self.y = y\n",
        "        self.channel = channel\n",
        "        self.radius = 86 #in meters\n",
        "\n",
        "    def __str__(self):\n",
        "        return \"AP at (\" + str(self.x) + \", \" + str(self.y) + \") and channel \" + str(self.channel)\n",
        "        \n",
        "    def in_hexagon(self, x, y):\n",
        "        x = abs(x - self.x)\n",
        "        y = abs(y - self.y)\n",
        "        s = self.radius\n",
        "        return y < 3**0.5 * min(s - x, s / 2)\n",
        "\n",
        "# Sniffers are placed on 2-D grid each separated from other by 100 meters\n",
        "# count : A static variable to keep the number of instantiations i.e #Sniffers\n",
        "# x,y : Denote the coordinates of the Sniffer in 2-D plane\n",
        "# channel : Channel # Monitired by Sniffer\n",
        "# radius : Coverage radius in meters\n",
        "# assigned_user : User monitired by this sniffer by any particular instant\n",
        "class Sniffer:\n",
        "    count = 0\n",
        "    \n",
        "    def __init__(self, x, y):\n",
        "        Sniffer.count += 1\n",
        "        self.x = x\n",
        "        self.y = y\n",
        "        self.channel = 0\n",
        "        self.radius = 200\n",
        "        self.assigned_user = -1\n",
        "        \n",
        "    def __str__(self):\n",
        "        return \"Sniffer at (\"+ str(self.x) + \", \" + str(self.y) + \") and channel \" + str(self.channel)\n",
        "        \n",
        "    def in_range(self, x, y):\n",
        "        x = abs(x - self.x)\n",
        "        y = abs(y - self.y)\n",
        "        r = self.radius\n",
        "        return pow(x,2.0) + pow(y,2.0) <= pow(r,2.0)\n",
        "    \n",
        "    #To Find out the list of users in range\n",
        "    def in_range_users(self, users):\n",
        "        range_users = []\n",
        "        for user in users:\n",
        "            if self.in_range(user.x, user.y):\n",
        "                range_users.append(user) \n",
        "        return range_users\n",
        "\n",
        "    def assign_channel(self, channel):\n",
        "        self.channel = channel\n",
        "    \n",
        "    def assign_user(self, channel, users):\n",
        "        inrange_users = self.in_range_users(users)\n",
        "#         inrange_users = random.shuffle(inrange_users)\n",
        "        if(inrange_users is not None):\n",
        "            for i,user in enumerate(inrange_users):\n",
        "                if user.active and user.channel == self.channel:\n",
        "                    self.assigned_user = i\n",
        "                    break\n",
        "        else:\n",
        "            self.assigned_user = -1\n",
        "            \n",
        "# Users are placed on 2-D grid.\n",
        "# count : A static variable to keep the number of instantiations i.e #Users\n",
        "# x,y : Denote the coordinates of the user in 2-D plane\n",
        "# channel : Channel # assigned to user\n",
        "# active : Mantain User's activity\n",
        "# activity_prob i.e Pu : User's transmission probability        \n",
        "class User:\n",
        "    count = 0\n",
        "    \n",
        "    def __init__(self, x, y):\n",
        "        User.count += 1\n",
        "        self.x = x\n",
        "        self.y = y\n",
        "        self.channel = 0  \n",
        "        self.active = 0\n",
        "        self.activity_prob = 0.3\n",
        "        \n",
        "    def __str__(self):\n",
        "        return \"User at (\"+ str(self.x) + \", \" + str(self.y) + \") and channel \" + str(self.channel) + \" and active \" + str(self.active)\n",
        "    \n",
        "    # This function finds out the list of sniffers in range of user\n",
        "    def in_range_sniffers(self, sniffers):\n",
        "        range_sniffers = []\n",
        "        for snif in sniffers:\n",
        "            if snif.in_range(self.x, self.y):\n",
        "                range_sniffers.append(snif)\n",
        "        return range_sniffers\n",
        "    \n",
        "    # This function finds out the list of APs in range of user\n",
        "    def access_point_in_range(self, aps):\n",
        "        req = []\n",
        "        for ap in aps:\n",
        "            if ap.in_hexagon(self.x, self.y):\n",
        "                self.channel = ap.channel\n",
        "                break; \n",
        "    # This function perturbs the activity status of the User           \n",
        "    def change_active(self):\n",
        "        if np.random.rand() <= self.activity_prob:\n",
        "            self.active = 1\n",
        "        else:\n",
        "            self.active = 0"
      ],
      "execution_count": 0,
      "outputs": []
    },
    {
      "cell_type": "code",
      "metadata": {
        "id": "pbJgv9pT2BHP",
        "colab_type": "code",
        "colab": {}
      },
      "source": [
        "sniffers = []\n",
        "for i in range(0, glob_range, 200): # 0,200\n",
        "    for j in range(0, glob_range, 200): #0,200\n",
        "        sniffers.append(Sniffer(i,j))"
      ],
      "execution_count": 0,
      "outputs": []
    },
    {
      "cell_type": "code",
      "metadata": {
        "id": "9sFpRSrF2ECv",
        "colab_type": "code",
        "outputId": "4850a782-e851-43e4-e532-aa3f258c665b",
        "colab": {
          "base_uri": "https://localhost:8080/",
          "height": 84
        }
      },
      "source": [
        "  for snif in sniffers:\n",
        "    print(snif)"
      ],
      "execution_count": 4,
      "outputs": [
        {
          "output_type": "stream",
          "text": [
            "Sniffer at (0, 0) and channel 0\n",
            "Sniffer at (0, 200) and channel 0\n",
            "Sniffer at (200, 0) and channel 0\n",
            "Sniffer at (200, 200) and channel 0\n"
          ],
          "name": "stdout"
        }
      ]
    },
    {
      "cell_type": "code",
      "metadata": {
        "id": "-Q6P102a2Kd-",
        "colab_type": "code",
        "colab": {}
      },
      "source": [
        "aps = []\n",
        "for i in range(0, glob_range, 86*3):\n",
        "    for j in range(0, glob_range, 86*2):\n",
        "        aps.append(AP(i,j,(i+j)%3))\n",
        "        \n",
        "for i in range(86+int(86/2), glob_range, 86*3):\n",
        "    for j in range(-86, glob_range+86, 86*2):\n",
        "        aps.append(AP(i,j, (i+j)%3))"
      ],
      "execution_count": 0,
      "outputs": []
    },
    {
      "cell_type": "code",
      "metadata": {
        "id": "KYwwkZFgAqpd",
        "colab_type": "code",
        "outputId": "fcce3d06-a804-40b6-a24b-9683f891cb91",
        "colab": {
          "base_uri": "https://localhost:8080/",
          "height": 134
        }
      },
      "source": [
        "for ap in aps:\n",
        "    print(ap)"
      ],
      "execution_count": 6,
      "outputs": [
        {
          "output_type": "stream",
          "text": [
            "AP at (0, 0) and channel 0\n",
            "AP at (0, 172) and channel 1\n",
            "AP at (258, 0) and channel 0\n",
            "AP at (258, 172) and channel 1\n",
            "AP at (129, -86) and channel 1\n",
            "AP at (129, 86) and channel 2\n",
            "AP at (129, 258) and channel 0\n"
          ],
          "name": "stdout"
        }
      ]
    },
    {
      "cell_type": "code",
      "metadata": {
        "id": "y7-4L1OT2OzK",
        "colab_type": "code",
        "colab": {}
      },
      "source": [
        "users = []\n",
        "for i in range(0, 100):\n",
        "        x = np.random.uniform(low=0, high=glob_range, size=(1,))[0]\n",
        "        y = np.random.uniform(low=0, high=glob_range, size=(1,))[0]\n",
        "        curr_user = User(x, y)\n",
        "        curr_user.access_point_in_range(aps)\n",
        "        curr_user.change_active()\n",
        "        users.append(curr_user)"
      ],
      "execution_count": 0,
      "outputs": []
    },
    {
      "cell_type": "code",
      "metadata": {
        "id": "n3cVfCLgBztr",
        "colab_type": "code",
        "outputId": "282ed360-acd2-4ae4-8bea-636beed530a4",
        "colab": {
          "base_uri": "https://localhost:8080/",
          "height": 1697
        }
      },
      "source": [
        "for user in users:\n",
        "    print(user)"
      ],
      "execution_count": 8,
      "outputs": [
        {
          "output_type": "stream",
          "text": [
            "User at (60.48286011270151, 71.79201572773661) and channel 2 and active 0\n",
            "User at (149.40713089965084, 207.76070253919096) and channel 0 and active 0\n",
            "User at (128.4641367598533, 131.7653782719559) and channel 2 and active 1\n",
            "User at (103.40521365261756, 207.58113074187116) and channel 0 and active 0\n",
            "User at (255.03038270589823, 267.94239869140426) and channel 0 and active 0\n",
            "User at (89.00972777152919, 12.890806132322808) and channel 2 and active 1\n",
            "User at (117.46440608990268, 148.43273569021184) and channel 2 and active 1\n",
            "User at (249.92098347290067, 180.14756963986946) and channel 1 and active 0\n",
            "User at (150.30126219553992, 186.77887314089824) and channel 0 and active 1\n",
            "User at (183.64915725022433, 280.1958943640848) and channel 0 and active 1\n",
            "User at (236.42252562182273, 200.66642499458217) and channel 1 and active 0\n",
            "User at (112.89553514664685, 262.43513885973897) and channel 0 and active 1\n",
            "User at (107.70804109130984, 161.1562066943571) and channel 0 and active 1\n",
            "User at (276.0887233988418, 16.1051207796568) and channel 0 and active 1\n",
            "User at (250.825583126352, 92.4364296625704) and channel 0 and active 1\n",
            "User at (278.8898878631757, 108.4001016814162) and channel 1 and active 0\n",
            "User at (145.5316410114868, 14.972189936355672) and channel 2 and active 1\n",
            "User at (72.72745380070921, 256.6928515518041) and channel 0 and active 0\n",
            "User at (49.513623005271235, 57.810063037574785) and channel 0 and active 0\n",
            "User at (168.67258107176264, 50.66580949606156) and channel 2 and active 0\n",
            "User at (242.66684512328865, 265.7840477073944) and channel 0 and active 0\n",
            "User at (185.58610994837665, 296.7300086701325) and channel 0 and active 0\n",
            "User at (57.078513952144306, 95.0740908717994) and channel 2 and active 0\n",
            "User at (192.07219512857768, 158.15890409836965) and channel 1 and active 0\n",
            "User at (139.01316583369606, 7.441694263511134) and channel 0 and active 0\n",
            "User at (173.6064592303326, 141.81415145790828) and channel 2 and active 0\n",
            "User at (252.90667037761833, 93.36652073697125) and channel 0 and active 1\n",
            "User at (132.3065154334491, 209.38529725176838) and channel 0 and active 0\n",
            "User at (179.1675054297951, 258.25555116552977) and channel 0 and active 0\n",
            "User at (268.35126359211887, 86.53894999775774) and channel 0 and active 1\n",
            "User at (223.23273217595437, 88.77477514956598) and channel 0 and active 1\n",
            "User at (127.87221005800717, 184.45319863653776) and channel 0 and active 1\n",
            "User at (128.9327629039097, 10.4296600617523) and channel 0 and active 1\n",
            "User at (70.28796691273608, 193.01397792931024) and channel 1 and active 0\n",
            "User at (53.85652557326998, 251.8392577024059) and channel 0 and active 1\n",
            "User at (266.49007728132034, 116.81915441351636) and channel 1 and active 0\n",
            "User at (226.34995122955667, 214.8936707040631) and channel 1 and active 0\n",
            "User at (267.77333175363174, 9.809928480631225) and channel 0 and active 1\n",
            "User at (247.63730321339133, 164.80565625901892) and channel 1 and active 1\n",
            "User at (49.28196257700874, 288.8904263506414) and channel 0 and active 0\n",
            "User at (194.61289807375942, 229.5505893579294) and channel 0 and active 0\n",
            "User at (251.4488379542977, 295.21453041524876) and channel 0 and active 0\n",
            "User at (42.47730787052137, 153.99644167505386) and channel 1 and active 1\n",
            "User at (254.71913389311118, 161.37527996265763) and channel 1 and active 1\n",
            "User at (156.033174360906, 146.47170066336818) and channel 2 and active 0\n",
            "User at (297.430898253571, 207.2577808267258) and channel 1 and active 0\n",
            "User at (220.01892565817113, 183.71030182517936) and channel 1 and active 1\n",
            "User at (178.22916089938232, 66.31571833334962) and channel 2 and active 1\n",
            "User at (4.659502401582016, 36.98039312113623) and channel 0 and active 0\n",
            "User at (151.07842016925935, 120.31794120848114) and channel 2 and active 0\n",
            "User at (71.74745142137242, 268.5322296909966) and channel 0 and active 1\n",
            "User at (226.88150966753813, 78.78174757308233) and channel 0 and active 0\n",
            "User at (111.47355717406788, 161.24960182817296) and channel 0 and active 0\n",
            "User at (250.08510563434686, 31.831825666435087) and channel 0 and active 1\n",
            "User at (74.52488700992286, 20.13311345917912) and channel 0 and active 0\n",
            "User at (110.29850348559178, 71.02308129734301) and channel 2 and active 1\n",
            "User at (118.77712731096119, 103.56267985900082) and channel 2 and active 0\n",
            "User at (43.39532214253676, 96.08787540545302) and channel 0 and active 0\n",
            "User at (164.9108044578906, 186.56457633593396) and channel 0 and active 0\n",
            "User at (160.81351018062193, 143.13350600744326) and channel 2 and active 0\n",
            "User at (98.82491196495359, 273.05930107563387) and channel 0 and active 0\n",
            "User at (254.12593268800705, 213.96370670161917) and channel 1 and active 1\n",
            "User at (246.76050317218687, 28.614285677758755) and channel 0 and active 0\n",
            "User at (15.377726936200753, 39.72986808720413) and channel 0 and active 1\n",
            "User at (143.1857390218668, 39.14097964534547) and channel 2 and active 0\n",
            "User at (181.87909519440672, 111.89496321921541) and channel 2 and active 0\n",
            "User at (206.9593392439825, 115.72549862128807) and channel 1 and active 0\n",
            "User at (190.4060989551661, 125.95036610956694) and channel 2 and active 0\n",
            "User at (178.63760769550458, 100.70831684712702) and channel 2 and active 1\n",
            "User at (36.9329669389326, 288.1055177782266) and channel 0 and active 1\n",
            "User at (155.73658047578053, 206.4691495346826) and channel 0 and active 0\n",
            "User at (198.05639112886283, 43.732043836007215) and channel 0 and active 0\n",
            "User at (296.31991132393074, 186.5655080557895) and channel 1 and active 0\n",
            "User at (103.88288034286414, 63.96339538737674) and channel 2 and active 0\n",
            "User at (110.46968398428587, 292.0821509439227) and channel 0 and active 0\n",
            "User at (100.46357157217926, 132.39160033435124) and channel 2 and active 0\n",
            "User at (203.2613267508478, 90.69304443398688) and channel 2 and active 0\n",
            "User at (150.55835519091497, 223.16913566924754) and channel 0 and active 0\n",
            "User at (124.19656629775903, 81.11683556369184) and channel 2 and active 0\n",
            "User at (200.68957449145844, 262.91111389753524) and channel 0 and active 1\n",
            "User at (241.657313046264, 197.4977100167164) and channel 1 and active 0\n",
            "User at (182.72414199569747, 175.74187577280028) and channel 1 and active 1\n",
            "User at (46.75971354843165, 46.17271421501658) and channel 0 and active 0\n",
            "User at (64.82040839449051, 248.57760182423053) and channel 0 and active 0\n",
            "User at (49.263225652729695, 298.8157823267017) and channel 0 and active 0\n",
            "User at (50.55477554496244, 146.56190846702916) and channel 1 and active 1\n",
            "User at (218.49921343608278, 185.35898951217735) and channel 1 and active 0\n",
            "User at (291.3567166163913, 126.24338645781339) and channel 1 and active 1\n",
            "User at (104.13546181150053, 63.2357686359358) and channel 2 and active 0\n",
            "User at (112.11648129195903, 2.671554341752347) and channel 0 and active 0\n",
            "User at (294.1746009060483, 166.75474497086074) and channel 1 and active 1\n",
            "User at (143.0610147475707, 117.31604023479278) and channel 2 and active 0\n",
            "User at (272.96089138341154, 104.32059759453882) and channel 1 and active 0\n",
            "User at (197.25903304739123, 40.321983044493535) and channel 0 and active 0\n",
            "User at (273.72860284969096, 152.4262640197836) and channel 1 and active 0\n",
            "User at (124.3747907704195, 266.0766685703891) and channel 0 and active 0\n",
            "User at (265.1908123592712, 209.0829332663785) and channel 1 and active 1\n",
            "User at (24.467463615165375, 249.02452566530243) and channel 0 and active 0\n",
            "User at (96.79227511879553, 249.41765132550213) and channel 0 and active 1\n",
            "User at (0.39850492435243856, 56.581092434701965) and channel 0 and active 0\n"
          ],
          "name": "stdout"
        }
      ]
    },
    {
      "cell_type": "code",
      "metadata": {
        "id": "ANhh1IEd2P1S",
        "colab_type": "code",
        "outputId": "1abf598d-f9da-48e6-d1b7-750eebdfaa64",
        "colab": {
          "base_uri": "https://localhost:8080/",
          "height": 374
        }
      },
      "source": [
        "x = [a.x for a in sniffers]\n",
        "y = [a.y for a in sniffers]\n",
        "\n",
        "x0 = []\n",
        "x1 = []\n",
        "x2 = []\n",
        "y0 = []\n",
        "y1 = []\n",
        "y2 = []\n",
        "\n",
        "for a in aps:\n",
        "    if a.channel == 0:\n",
        "        x0.append(a.x)\n",
        "        y0.append(a.y)\n",
        "    elif a.channel == 1:\n",
        "        x1.append(a.x)\n",
        "        y1.append(a.y)\n",
        "    else:\n",
        "        x2.append(a.x)\n",
        "        y2.append(a.y)        \n",
        "\n",
        "\n",
        "x_u = [a.x for a in users]\n",
        "y_u = [a.y for a in users]\n",
        "\n",
        "fig = plt.figure(figsize=(6, 6))\n",
        "ax = fig.gca()\n",
        "ax.set_xticks(np.arange(0, glob_range, 50))\n",
        "ax.set_yticks(np.arange(0, glob_range, 50))\n",
        "\n",
        "for i, a in enumerate(aps):\n",
        "    if i%2 ==0:\n",
        "        circle = RegularPolygon((a.x, a.y), 6, radius=a.radius, color=\"yellow\", orientation=pi/2, alpha=0.3)\n",
        "    else:\n",
        "        circle = RegularPolygon((a.x, a.y), 6, radius=a.radius, color=\"orange\", orientation=pi/2, alpha=0.3)\n",
        "    ax.add_patch(circle)\n",
        "    \n",
        "plt.scatter(x,y, color='black',s=400)\n",
        "plt.scatter(x0,y0, color='blue', marker=\"D\")    \n",
        "plt.scatter(x1,y1, color='green', marker=\"D\")    \n",
        "plt.scatter(x2,y2, color='red', marker=\"D\")    \n",
        "plt.scatter(x_u,y_u, marker = \"+\", color = \"red\")    \n",
        "\n",
        "ax.set_xlim(0, glob_range)\n",
        "ax.set_ylim(0, glob_range)\n",
        "plt.grid()\n",
        "plt.show()"
      ],
      "execution_count": 9,
      "outputs": [
        {
          "output_type": "display_data",
          "data": {
            "image/png": "[encoded data removed]",
            "text/plain": [
              "<Figure size 432x432 with 1 Axes>"
            ]
          },
          "metadata": {
            "tags": [],
            "needs_background": "light"
          }
        }
      ]
    },
    {
      "cell_type": "code",
      "metadata": {
        "id": "OMc34PoX2Ti3",
        "colab_type": "code",
        "colab": {}
      },
      "source": [
        "#Returns 1 /0 whether there is a change in channel assignment to sniffer\n",
        "#based on some randomly generated pattern\n",
        "def get_iden(arr, channel, sniffer_assign):\n",
        "    #print(\"Inside get_iden...\")\n",
        "    arr = np.array(arr)\n",
        "    #print(\"arr : \",arr)\n",
        "    sniffer_assign1 = np.array(sniffer_assign)\n",
        "    #print(\"sniffer_assign : \",sniffer_assign1)\n",
        "    #Find indices where arr's value is '1' \n",
        "    indices = np.where(arr > 0)[0]\n",
        "    #print(\"indices : \",indices)\n",
        "    flag = 1\n",
        "    for index in indices:\n",
        "        if channel != sniffer_assign1[index]:\n",
        "            output = 0\n",
        "            flag = 0\n",
        "            break\n",
        "    if flag == 1:\n",
        "        output = 1\n",
        "\n",
        "    return output\n",
        "#Returns 1 /0 whether there is a change in channel assignment to user\n",
        "#based on some randomly generated pattern\n",
        "def get_y(arr, channel, user_assign):\n",
        "    #print(\"Inside get_y...\")\n",
        "    global users\n",
        "    arr = np.array(arr)\n",
        "    #print(\"arr : \",arr)\n",
        "    user_assign1 = np.array(user_assign)\n",
        "    #print(\"user_assign : \",user_assign1)\n",
        "    indices = np.where(arr > 0)[0]\n",
        "    #print(\"indices : \",indices)\n",
        "    start = user_assign1[indices[0]]\n",
        "    if start == -1:\n",
        "        return 0\n",
        "    if channel != users[start].channel:\n",
        "        return 0\n",
        "    output = 1\n",
        "    for index in indices[1:]:\n",
        "        if start != user_assign1[index] or user_assign1[index] == -1:\n",
        "            output = 0\n",
        "            return output\n",
        "      \n",
        "    return output"
      ],
      "execution_count": 0,
      "outputs": []
    },
    {
      "cell_type": "code",
      "metadata": {
        "id": "pMez-dAr2Y3e",
        "colab_type": "code",
        "colab": {}
      },
      "source": [
        "def generate_phi(user_assign, sniffer_assign):\n",
        "    n = len(sniffer_assign) # number of sniffers i.e 9\n",
        "    #Generate string of 0's and 1's of linegth 'n'\n",
        "    now = [\"\".join(seq) for seq in itertools.product(\"01\", repeat=n)]\n",
        "    #print(\"Before : \",now)\n",
        "    #Remove strings which are all 0's\n",
        "    now.remove(\"\".join([str(0) for i in range(n)]))\n",
        "    #print(\"After : \",now)\n",
        "    phi = []\n",
        "    y = []\n",
        "    for a in now:\n",
        "        #Get a string of 0's and 1's of length 'n'\n",
        "        #print(\"Before : \",a)\n",
        "        #Convert the string to a list\n",
        "        a =  list(map(int, list(a)))\n",
        "        #print(\"After : \",a)\n",
        "        for channel in range(num_of_channels):\n",
        "            phi.append(get_iden(a, channel, sniffer_assign))\n",
        "            y.append(get_y(a, channel, user_assign))\n",
        "    phi = np.array(phi)\n",
        "    y = np.array(y)\n",
        "    return (phi, y)"
      ],
      "execution_count": 0,
      "outputs": []
    },
    {
      "cell_type": "code",
      "metadata": {
        "id": "4QVJhTEb2Z0d",
        "colab_type": "code",
        "colab": {
          "base_uri": "https://localhost:8080/",
          "height": 168
        },
        "outputId": "dfda5c2a-2fd6-4d51-ac38-e19b2668fa65"
      },
      "source": [
        "spanners = []\n",
        "\n",
        "for channel in range(num_of_channels):\n",
        "    #For finding the spanner set epsilon, assign same channel to all the sniffers\n",
        "    for snif in sniffers:\n",
        "        snif.assign_channel(channel)\n",
        "    user_assign = [snif.assigned_user for snif in sniffers]\n",
        "\n",
        "    sniffer_assign = [snif.channel for snif in sniffers]\n",
        "    \n",
        "    print(\"For channel # \",channel)\n",
        "    print(\"user_assign : \",user_assign)\n",
        "    print(\"sniffer_assign : \",sniffer_assign)\n",
        "    spanners.append(generate_phi(user_assign, sniffer_assign)[0])"
      ],
      "execution_count": 12,
      "outputs": [
        {
          "output_type": "stream",
          "text": [
            "For channel #  0\n",
            "user_assign :  [-1, -1, -1, -1]\n",
            "sniffer_assign :  [0, 0, 0, 0]\n",
            "For channel #  1\n",
            "user_assign :  [-1, -1, -1, -1]\n",
            "sniffer_assign :  [1, 1, 1, 1]\n",
            "For channel #  2\n",
            "user_assign :  [-1, -1, -1, -1]\n",
            "sniffer_assign :  [2, 2, 2, 2]\n"
          ],
          "name": "stdout"
        }
      ]
    },
    {
      "cell_type": "code",
      "metadata": {
        "id": "NHhq4-Z32dAi",
        "colab_type": "code",
        "colab": {}
      },
      "source": [
        "phis = []\n",
        "k = 0"
      ],
      "execution_count": 0,
      "outputs": []
    },
    {
      "cell_type": "code",
      "metadata": {
        "id": "8CmiAWK22gPw",
        "colab_type": "code",
        "colab": {}
      },
      "source": [
        "def gen_all_phis(n , channel_assign):\n",
        "    global phis, k\n",
        "    if n == 0:\n",
        "        return \n",
        "    snif1 = sniffers[n-1]\n",
        "    for channel in range(num_of_channels):\n",
        "        snif1.assign_channel(channel)\n",
        "        k += 1\n",
        "        user_assign = [snif.assigned_user for snif in sniffers]\n",
        "        sniffer_assign = [snif.channel for snif in sniffers]\n",
        "        gen_all_phis(n-1, sniffer_assign.copy())\n",
        "        phis.append((sniffer_assign, generate_phi(user_assign, sniffer_assign)[0]))\n",
        "        phis.append((sniffer_assign , generate_phi(user_assign, sniffer_assign)[0]))\n",
        "    return phis"
      ],
      "execution_count": 0,
      "outputs": []
    },
    {
      "cell_type": "code",
      "metadata": {
        "id": "C2wWYrd02i0x",
        "colab_type": "code",
        "colab": {}
      },
      "source": [
        "class ucb_agent():  \n",
        "    def __init__(self,k,alpha,sniffers,spanners):\n",
        "        self.arm_count = k #spanner size\n",
        "        self.alpha = alpha #param\n",
        "        self.N = np.ones(((2**sniffers-1)*k))\n",
        "        self.trials = 1\n",
        "        self.V = np.zeros((k,))\n",
        "        self.mean = np.zeros((k,))\n",
        "        self.theta = np.zeros(((2**sniffers-1)*k))\n",
        "        self.spanners=spanners\n",
        "        self.reward = [1]\n",
        "        self.reward_avg = [1]\n",
        "        self.arm = []\n",
        "        self.switching_regret = [0]\n",
        "        self.s_cost = 2 #switching cost\n",
        "\n",
        "        \n",
        "    def get_action(self):\n",
        "        self.trials += 1\n",
        "        out = np.argmax(self.V)\n",
        "        \n",
        "        self.reward_avg.append((self.mean[out]+(self.trials-1)*self.reward[-1])/self.trials)\n",
        "        self.reward.append(self.mean[out])\n",
        "        self.arm.append(out)\n",
        "        try:\n",
        "            if out != self.arm[-2]:\n",
        "                self.switching_regret.append(self.switching_regret[-1]+self.s_cost)\n",
        "            else:\n",
        "                self.switching_regret.append(self.switching_regret[-1])\n",
        "        except:\n",
        "            pass\n",
        "        return out\n",
        "    \n",
        "    def update_theta(self,Y,phi):\n",
        "        self.theta = self.theta + (Y-self.theta)*phi/self.N\n",
        "        self.N = self.N + np.absolute(phi)\n",
        "        \n",
        "    def update(self,Y,phi):\n",
        "        scale = (self.alpha*np.log(self.trials))**0.5\n",
        "        for i in range(self.arm_count):\n",
        "            self.V[i] = self.mean[i] + (scale)*np.sum(((1/self.N)**0.5)*self.spanners[i])\n",
        "            self.mean[i] = np.dot(self.theta,self.spanners[i])\n",
        "        return"
      ],
      "execution_count": 0,
      "outputs": []
    },
    {
      "cell_type": "code",
      "metadata": {
        "id": "bYM4wA8w2mFz",
        "colab_type": "code",
        "colab": {}
      },
      "source": [
        "def get_regret(agent,spanners):\n",
        "    optimal_index = np.argmax(agent.reward[1500:])+1500\n",
        "    optimal = agent.arm[optimal_index-1]\n",
        "    optimal_phi = spanners[optimal]\n",
        "    reg = [0]\n",
        "    for i in range(len(agent.arm)):\n",
        "        reg.append(reg[-1]+(np.dot(optimal_phi,agent.theta)-np.dot(spanners[agent.arm[i]],agent.theta)))\n",
        "    return reg"
      ],
      "execution_count": 0,
      "outputs": []
    },
    {
      "cell_type": "code",
      "metadata": {
        "id": "DQfH2PpT2ojZ",
        "colab_type": "code",
        "outputId": "69bba3f9-e248-4bd0-f61c-308a5ec5b8f3",
        "colab": {
          "base_uri": "https://localhost:8080/",
          "height": 34
        }
      },
      "source": [
        "import tqdm\n",
        "regret = []\n",
        "s_regret = []\n",
        "for trials in tqdm.tqdm(range(10)):\n",
        "    spanners = []\n",
        "    for channel in range(num_of_channels):\n",
        "        for snif in sniffers:\n",
        "            snif.assign_channel(channel)\n",
        "        user_assign = [snif.assigned_user for snif in sniffers]\n",
        "        sniffer_assign = [snif.channel for snif in sniffers]    \n",
        "        spanners.append(generate_phi(user_assign, sniffer_assign)[0])\n",
        "\n",
        "\n",
        "    agent = ucb_agent(k = num_of_channels, alpha=0.1, sniffers=len(sniffers), spanners=spanners)\n",
        "\n",
        "\n",
        "    for action in range(num_of_channels):\n",
        "        for i in users:\n",
        "            i.change_active()\n",
        "        for j in sniffers:\n",
        "            j.assign_channel(action)\n",
        "            j.assign_user(1,users)\n",
        "\n",
        "        user_assign = [snif.assigned_user for snif in sniffers]\n",
        "        sniffer_assign = [snif.channel for snif in sniffers]\n",
        "\n",
        "        phi, Y = generate_phi(user_assign, sniffer_assign)\n",
        "        agent.update(Y,phi)\n",
        "        agent.update_theta(Y,phi)\n",
        "\n",
        "\n",
        "    epoch_len =1\n",
        "    epoch_counter = np.ones((2**len(sniffers) - 1)*num_of_channels)\n",
        "    steps = 10000\n",
        "    alpha = 1\n",
        "    for t in range(steps):\n",
        "        epoch_len -= 1\n",
        "        for i in users:\n",
        "            i.change_active()\n",
        "        action = agent.get_action()\n",
        "        for j in sniffers:\n",
        "            j.assign_channel(action)\n",
        "            j.assign_user(1,users)\n",
        "\n",
        "\n",
        "        user_assign = [snif.assigned_user for snif in sniffers]\n",
        "        sniffer_assign = [snif.channel for snif in sniffers]\n",
        "\n",
        "        phi, Y = generate_phi(user_assign, sniffer_assign)\n",
        "        if epoch_len<0:\n",
        "            epoch_counter += np.absolute(phi)\n",
        "            control = np.argmin(agent.N)\n",
        "            epoch_len = (1+alpha)**(epoch_counter[control]) - (1+alpha)**(epoch_counter[control]-1)\n",
        "            agent.update(Y,phi)\n",
        "        agent.update_theta(Y,phi)\n",
        "    s_regret.append(agent.switching_regret)\n",
        "    regret.append(get_regret(agent=agent,spanners=spanners))\n",
        "    \n",
        "    \n",
        "\n",
        "avg_regret = np.array(regret).mean(axis=0)\n",
        "# plt.plot(avg_regret)\n",
        "\n",
        "avg_s_regret = np.array(s_regret).mean(axis=0)\n",
        "# plt.plot(avg_s_regret)\n",
        "\n",
        "avg_tot_regret = avg_s_regret + avg_regret[:len(avg_s_regret)]\n",
        "# plt.plot(avg_tot_regret)"
      ],
      "execution_count": 17,
      "outputs": [
        {
          "output_type": "stream",
          "text": [
            "100%|██████████| 10/10 [02:24<00:00, 14.40s/it]\n"
          ],
          "name": "stderr"
        }
      ]
    },
    {
      "cell_type": "code",
      "metadata": {
        "id": "fL9GIBjz2sxV",
        "colab_type": "code",
        "outputId": "49881e0b-3d4b-4d87-c2f4-0c44b1f068ea",
        "colab": {
          "base_uri": "https://localhost:8080/",
          "height": 34
        }
      },
      "source": [
        "import tqdm\n",
        "regret = []\n",
        "s_regret = []\n",
        "for trials in tqdm.tqdm(range(10)):\n",
        "    spanners = []\n",
        "    for channel in range(num_of_channels):\n",
        "        for snif in sniffers:\n",
        "            snif.assign_channel(channel)\n",
        "        user_assign = [snif.assigned_user for snif in sniffers]\n",
        "        sniffer_assign = [snif.channel for snif in sniffers]    \n",
        "        spanners.append(generate_phi(user_assign, sniffer_assign)[0])\n",
        "\n",
        "\n",
        "    agent = ucb_agent(k = num_of_channels, alpha=0.1, sniffers=len(sniffers), spanners=spanners)\n",
        "\n",
        "    epoch_len =1\n",
        "    epoch_counter = np.ones((2**len(sniffers) - 1)*num_of_channels)\n",
        "    steps = 10000\n",
        "    alpha = 1\n",
        "    for t in range(steps):\n",
        "        epoch_len -= 1\n",
        "        for i in users:\n",
        "            i.change_active()\n",
        "        action = agent.get_action()\n",
        "        for j in sniffers:\n",
        "            j.assign_channel(action)\n",
        "            j.assign_user(1,users)\n",
        "\n",
        "\n",
        "        user_assign = [snif.assigned_user for snif in sniffers]\n",
        "        sniffer_assign = [snif.channel for snif in sniffers]\n",
        "\n",
        "        phi, Y = generate_phi(user_assign, sniffer_assign)\n",
        "        agent.update(Y,phi)\n",
        "        agent.update_theta(Y,phi)\n",
        "    s_regret.append(agent.switching_regret)\n",
        "    regret.append(get_regret(agent=agent,spanners=spanners))\n",
        "\n",
        "avg_regret_naive = np.array(regret).mean(axis=0)\n",
        "# plt.plot(avg_regret_naive)\n",
        "\n",
        "avg_s_regret_naive = np.array(s_regret).mean(axis=0)\n",
        "# plt.plot(avg_s_regret_naive)\n",
        "\n",
        "avg_tot_regret_naive = avg_s_regret_naive + avg_regret_naive[:len(avg_s_regret_naive)]\n",
        "# plt.plot(avg_tot_regret_naive)"
      ],
      "execution_count": 18,
      "outputs": [
        {
          "output_type": "stream",
          "text": [
            "100%|██████████| 10/10 [02:27<00:00, 14.79s/it]\n"
          ],
          "name": "stderr"
        }
      ]
    },
    {
      "cell_type": "code",
      "metadata": {
        "id": "c4q0iihE2wFl",
        "colab_type": "code",
        "outputId": "1f3e85de-d1bd-4926-f83f-c4228a110008",
        "colab": {
          "base_uri": "https://localhost:8080/",
          "height": 313
        }
      },
      "source": [
        "x = list(range(10000))\n",
        "plt.plot(x,avg_regret[:10000],c = \"r\",label=\"Proposed UCB\")\n",
        "plt.plot(x,avg_regret_naive[:10000],c = \"b\",label=\"UCB\")\n",
        "plt.xlabel(\"Time_steps\")\n",
        "plt.ylabel(\"Regret\")\n",
        "plt.title(\"Sampling Regret\")\n",
        "plt.legend()\n",
        "plt.show()\n",
        "plt.savefig(\"sampling_regret.png\")"
      ],
      "execution_count": 19,
      "outputs": [
        {
          "output_type": "display_data",
          "data": {
            "image/png": "[encoded data removed]",
            "text/plain": [
              "<Figure size 432x288 with 1 Axes>"
            ]
          },
          "metadata": {
            "tags": [],
            "needs_background": "light"
          }
        },
        {
          "output_type": "display_data",
          "data": {
            "text/plain": [
              "<Figure size 432x288 with 0 Axes>"
            ]
          },
          "metadata": {
            "tags": []
          }
        }
      ]
    },
    {
      "cell_type": "code",
      "metadata": {
        "id": "0ogQjeW32y6H",
        "colab_type": "code",
        "outputId": "fa94f665-93c5-49b0-8fdc-4a5488c1de7d",
        "colab": {
          "base_uri": "https://localhost:8080/",
          "height": 313
        }
      },
      "source": [
        "x = list(range(10000))\n",
        "plt.plot(x,avg_s_regret[:10000],c = \"r\",label = \"Proposed UCB\")\n",
        "plt.plot(x,avg_s_regret_naive[:10000],c = \"b\",label = \"UCB\")\n",
        "plt.xlabel(\"Time_steps\")\n",
        "plt.ylabel(\"Regret\")\n",
        "plt.title(\"Switching Regret\")\n",
        "plt.legend()\n",
        "plt.show()\n",
        "plt.savefig(\"switching_regret.png\")"
      ],
      "execution_count": 20,
      "outputs": [
        {
          "output_type": "display_data",
          "data": {
            "image/png": "[encoded data removed]",
            "text/plain": [
              "<Figure size 432x288 with 1 Axes>"
            ]
          },
          "metadata": {
            "tags": [],
            "needs_background": "light"
          }
        },
        {
          "output_type": "display_data",
          "data": {
            "text/plain": [
              "<Figure size 432x288 with 0 Axes>"
            ]
          },
          "metadata": {
            "tags": []
          }
        }
      ]
    },
    {
      "cell_type": "code",
      "metadata": {
        "id": "uosv6KHT22fR",
        "colab_type": "code",
        "outputId": "9b2e7c5d-ba16-4997-b60a-7f4189ed70e2",
        "colab": {
          "base_uri": "https://localhost:8080/",
          "height": 313
        }
      },
      "source": [
        "x = list(range(10000))\n",
        "plt.plot(x,avg_tot_regret[:10000],c = \"r\",label = \"Proposed UCB\")\n",
        "plt.plot(x,avg_tot_regret_naive[:10000],c = \"b\",label = \"UCB\")\n",
        "plt.xlabel(\"Time_steps\")\n",
        "plt.ylabel(\"Regret\")\n",
        "plt.title(\"Total Regret\")\n",
        "plt.legend()\n",
        "plt.show()\n",
        "plt.savefig(\"total_regret.png\")"
      ],
      "execution_count": 21,
      "outputs": [
        {
          "output_type": "display_data",
          "data": {
            "image/png": "[encoded data removed]",
            "text/plain": [
              "<Figure size 432x288 with 1 Axes>"
            ]
          },
          "metadata": {
            "tags": [],
            "needs_background": "light"
          }
        },
        {
          "output_type": "display_data",
          "data": {
            "text/plain": [
              "<Figure size 432x288 with 0 Axes>"
            ]
          },
          "metadata": {
            "tags": []
          }
        }
      ]
    },
    {
      "cell_type": "code",
      "metadata": {
        "id": "yAi_hls-2447",
        "colab_type": "code",
        "colab": {}
      },
      "source": [
        "#: Size of the sliding window.\n",
        "TAU = 1000\n",
        "\n",
        "#: Default value for the constant `alpha`.\n",
        "ALPHA = 1.0"
      ],
      "execution_count": 0,
      "outputs": []
    },
    {
      "cell_type": "code",
      "metadata": {
        "id": "hkww14aHV2GW",
        "colab_type": "code",
        "colab": {}
      },
      "source": [
        "class BasePolicy(object):\n",
        "    \"\"\" Base class for any policy.\"\"\"\n",
        "\n",
        "    def __init__(self, nbArms, lower=0., amplitude=1.):\n",
        "        # Parameters\n",
        "        assert nbArms > 0, \"Error: the 'nbArms' parameter of a {} object cannot be <= 0.\".format(self)  # DEBUG\n",
        "        self.nbArms = nbArms  #: Number of arms\n",
        "        self.lower = lower  #: Lower values for rewards\n",
        "        assert amplitude > 0, \"Error: the 'amplitude' parameter of a {} object cannot be <= 0.\".format(self)  # DEBUG\n",
        "        self.amplitude = amplitude  #: Larger values for rewards\n",
        "        # Internal memory\n",
        "        self.t = 0  #: Internal time\n",
        "        self.pulls = np.zeros(nbArms, dtype=int)  #: Number of pulls of each arms\n",
        "        self.rewards = np.zeros(nbArms)  #: Cumulated rewards of each arms\n",
        "\n",
        "    def __str__(self):\n",
        "        \"\"\" -> str\"\"\"\n",
        "        return self.__class__.__name__\n",
        "\n",
        "    # --- Start game, and receive rewards\n",
        "\n",
        "    def startGame(self):\n",
        "        \"\"\" Start the game (fill pulls and rewards with 0).\"\"\"\n",
        "        self.t = 0\n",
        "        self.pulls.fill(0)\n",
        "        self.rewards.fill(0)\n",
        "    \n",
        "    # It's faster to define two methods and pick one\n",
        "    # (one test in init, that's it)\n",
        "    # rather than doing the test in the method\n",
        "    def getReward(self, arm, reward):\n",
        "      \"\"\" Give a reward: increase t, pulls, and update cumulated sum of rewards for that arm (normalized in [0, 1]).\"\"\"\n",
        "      self.t += 1\n",
        "      self.pulls[arm] += 1\n",
        "      reward = (reward - self.lower) / self.amplitude\n",
        "      self.rewards[arm] += reward\n",
        "\n",
        "    # --- Basic choice()\n",
        "\n",
        "    def choice(self):\n",
        "        \"\"\" Not defined.\"\"\"\n",
        "        raise NotImplementedError(\"This method choice() has to be implemented in the child class inheriting from BasePolicy.\")\n",
        "    "
      ],
      "execution_count": 0,
      "outputs": []
    },
    {
      "cell_type": "code",
      "metadata": {
        "id": "5Hded8mAWRfx",
        "colab_type": "code",
        "colab": {}
      },
      "source": [
        "class IndexPolicy(BasePolicy):\n",
        "    \"\"\" Class that implements a generic index policy.\"\"\"\n",
        "\n",
        "    def __init__(self, nbArms, lower=0., amplitude=1.):\n",
        "        \"\"\" New generic index policy.\n",
        "        - nbArms: the number of arms,\n",
        "        - lower, amplitude: lower value and known amplitude of the rewards.\n",
        "        \"\"\"\n",
        "        super(IndexPolicy, self).__init__(nbArms, lower=lower, amplitude=amplitude)\n",
        "        self.index = np.zeros(nbArms)  #: Numerical index for each arms\n",
        "\n",
        "    # --- Start game, and receive rewards\n",
        "\n",
        "    def startGame(self):\n",
        "        \"\"\" Initialize the policy for a new game.\"\"\"\n",
        "        super(IndexPolicy, self).startGame()\n",
        "        self.index.fill(0)\n",
        "\n",
        "    def computeIndex(self, arm):\n",
        "        \"\"\" Compute the current index of arm 'arm'.\"\"\"\n",
        "        raise NotImplementedError(\"This method computeIndex(arm) has to be implemented in the child class inheriting from IndexPolicy.\")\n",
        "\n",
        "    def computeAllIndex(self):\n",
        "        \"\"\" Compute the current indexes for all arms. Possibly vectorized, by default it can *not* be vectorized automatically.\"\"\"\n",
        "        for arm in range(self.nbArms):\n",
        "            self.index[arm] = self.computeIndex(arm)\n",
        "\n",
        "    # --- Basic choice() method\n",
        "\n",
        "    def choice(self):\n",
        "        r\"\"\" In an index policy, choose an arm with maximal index (uniformly at random):\n",
        "        .. warning:: In almost all cases, there is a unique arm with maximal index, so we loose a lot of time with this generic code, but I couldn't find a way to be more efficient without loosing generality.\n",
        "        \"\"\"\n",
        "        # I prefer to let this be another method, so child of IndexPolicy only needs to implement it (if they want, or just computeIndex)\n",
        "        self.computeAllIndex()\n",
        "        # Uniform choice among the best arms\n",
        "        try:\n",
        "            return np.random.choice(np.nonzero(self.index == np.max(self.index))[0])\n",
        "        except ValueError:\n",
        "            print(\"Warning: unknown error in IndexPolicy.choice(): the indexes were {} but couldn't be used to select an arm.\".format(self.index))\n",
        "            return np.random.randint(self.nbArms)\n",
        "\n",
        "    "
      ],
      "execution_count": 0,
      "outputs": []
    },
    {
      "cell_type": "code",
      "metadata": {
        "id": "qovEnMmjWavE",
        "colab_type": "code",
        "colab": {}
      },
      "source": [
        "class SWUCB(IndexPolicy):\n",
        "    r\"\"\" An experimental policy, using only a sliding window (of for instance `tau=1000` *steps*, not counting draws of each arms) instead of using the full-size history.\n",
        "    \"\"\"\n",
        "\n",
        "    def __init__(self, nbArms,\n",
        "                 tau=TAU, alpha=ALPHA,\n",
        "                 *args, **kwargs):\n",
        "        super(SWUCB, self).__init__(nbArms, *args, **kwargs)\n",
        "        # New parameters\n",
        "        assert 1 <= tau, \"Error: parameter 'tau' for class SWUCB has to be >= 1, but was {}.\".format(tau)  # DEBUG\n",
        "        self.tau = int(tau)  #: Size `tau` of the sliding window.\n",
        "        assert alpha > 0, \"Error: parameter 'alpha' for class SWUCB has to be > 0, but was {}.\".format(alpha)  # DEBUG\n",
        "        self.alpha = alpha  #: Constant `alpha` in the square-root in the computation for the index.\n",
        "        # Internal memory\n",
        "        self.last_rewards = np.zeros(tau)  #: Keep in memory all the rewards obtained in the last `tau` steps.\n",
        "        self.last_choices = np.full(tau, -1)  #: Keep in memory the times where each arm was last seen.\n",
        "\n",
        "    def __str__(self):\n",
        "        return r\"SW-UCB($\\tau={}${})\".format(\n",
        "            self.tau,\n",
        "            \", $\\alpha={:.3g}$\".format(self.alpha) if self.alpha != ALPHA else \"\",\n",
        "        )\n",
        "\n",
        "    def getReward(self, arm, reward):\n",
        "        \"\"\"Give a reward: increase t, pulls, and update cumulated sum of rewards and update small history (sliding window) for that arm (normalized in [0, 1]).\n",
        "        \"\"\"\n",
        "        now = self.t % self.tau\n",
        "        # Get reward, normalized to [0, 1]\n",
        "        reward = (reward - self.lower) / self.amplitude\n",
        "        # We have seen it one more time\n",
        "        self.last_choices[now] = arm\n",
        "        # Store it in place for the empirical average of that arm\n",
        "        self.last_rewards[now] = reward\n",
        "        self.t += 1\n",
        "\n",
        "    def computeIndex(self, arm):\n",
        "        last_pulls_of_this_arm = np.count_nonzero(self.last_choices == arm)\n",
        "        if last_pulls_of_this_arm < 1:\n",
        "            return float('+inf')\n",
        "        else:\n",
        "            return (np.sum(self.last_rewards[self.last_choices == arm]) / last_pulls_of_this_arm) + sqrt((self.alpha * log(min(self.t, self.tau))) / last_pulls_of_this_arm)\n"
      ],
      "execution_count": 0,
      "outputs": []
    },
    {
      "cell_type": "code",
      "metadata": {
        "id": "VLGJWWCYkqVZ",
        "colab_type": "code",
        "colab": {}
      },
      "source": [
        "class KBanditProblem:\n",
        "    def __init__(self, k, stationary=False):\n",
        "        self.k = k\n",
        "        self.stationary = stationary\n",
        "        self.values = np.random.normal(loc=0.0, scale=1, size=k)\n",
        "        self.optimal = self.values.argmax()\n",
        "        \n",
        "    def generate_reward(self, action):\n",
        "        if not self.stationary:\n",
        "            self.values += np.random.normal(loc=0.0, scale=0.01, size=self.k)\n",
        "            self.optimal = self.values.argmax()\n",
        "        return np.random.normal(loc=self.values[action], scale=1)\n"
      ],
      "execution_count": 0,
      "outputs": []
    },
    {
      "cell_type": "code",
      "metadata": {
        "id": "TXtK9WZMk1y9",
        "colab_type": "code",
        "colab": {}
      },
      "source": [
        "class KBanditSolution:\n",
        "    def __init__(self, problem, steps):\n",
        "        self.problem = problem\n",
        "        self.steps = steps\n",
        "        self.my_policy = SWUCB(num_of_channels**len(sniffers))#in MAB, number of Arms = num_of_channels**num_of_sniffers in Sniffer-channel assignment problem\n",
        "        self.my_policy.startGame() \n",
        "        \n",
        "        self.average_reward = 0\n",
        "        self.average_rewards = np.array([])\n",
        "        self.optimal_percentage = 0\n",
        "        self.optimal_precentages = np.array([])\n",
        "\n",
        "    def print_rewards(self):\n",
        "        p_steps = np.arange(self.steps)\n",
        "        plt.plot(p_steps,self.average_rewards)\n",
        "        plt.xlabel('Steps')\n",
        "        plt.ylabel('Average_rewards')\n",
        "        plt.title(\"Steps vs Average_rewards\")\n",
        "        plt.legend()\n",
        "        plt.show()\n",
        "    \n",
        "    def print_optimal_percentages(self):\n",
        "        p_steps = np.arange(self.steps)\n",
        "        plt.plot(p_steps,self.optimal_precentages)\n",
        "        plt.xlabel('Steps')\n",
        "        plt.ylabel('Optimal_percentages')\n",
        "        plt.title(\"Steps vs Optimal_percentages\")\n",
        "        plt.legend()\n",
        "        plt.show() \n",
        "    def count_statistics(self, action, reward, step):\n",
        "        self.average_reward += (1 / (step + 1)) * (reward - self.average_reward)\n",
        "        self.optimal_percentage += (1 / (step + 1)) * ((1 if action == self.problem.optimal else 0) - self.optimal_percentage)\n",
        "        self.average_rewards = np.append(self.average_rewards, self.average_reward)\n",
        "        self.optimal_precentages = np.append(self.optimal_precentages, self.optimal_percentage)"
      ],
      "execution_count": 0,
      "outputs": []
    },
    {
      "cell_type": "code",
      "metadata": {
        "id": "Zw8fnaA3p8Z5",
        "colab_type": "code",
        "colab": {}
      },
      "source": [
        "import sys\n",
        "import math"
      ],
      "execution_count": 0,
      "outputs": []
    },
    {
      "cell_type": "code",
      "metadata": {
        "id": "cgd1dz7SlQBA",
        "colab_type": "code",
        "colab": {}
      },
      "source": [
        "class UCB(KBanditSolution):\n",
        "    def __init__(self,problem, steps):\n",
        "        super(UCB, self).__init__(problem, steps)\n",
        "\n",
        "    def count_ucb(self, q, c, step, n):\n",
        "        if n == 0:\n",
        "            return sys.maxsize\n",
        "        return (q + (c * math.sqrt((math.log10(step) / n))))\n",
        "    \n",
        "    def solve(self, c):\n",
        "        Q = {i: 0 for i in range(num_of_channels**len(sniffers))} # 1. Value function        \n",
        "        N = {i: 0 for i in range(num_of_channels**len(sniffers))} # 2. Number of actions, for update rule\n",
        "\n",
        "        for i in range(self.steps): # 3. Main loop\n",
        "            Q_ucb = {i: self.count_ucb(Q[i], c, i + 1, N[i]) for i in range(num_of_channels**len(sniffers))} # 4. Count UCB\n",
        "            #action = max(Q_ucb, key=Q_ucb.get) # 5. Choose action with maximum UCB\n",
        "            action = my_policy.choice()\n",
        "\n",
        "            reward = self.problem.generate_reward(action) # 6. Get reward for current action\n",
        "            N[action] += 1 # 7. Update action number\n",
        "            Q[action] += (1 / N[action]) * (reward - Q[action]) # 8. Update value dict \n",
        "            self.count_statistics(action, reward, i)"
      ],
      "execution_count": 0,
      "outputs": []
    },
    {
      "cell_type": "code",
      "metadata": {
        "id": "sM66EcyjmqjZ",
        "colab_type": "code",
        "colab": {
          "base_uri": "https://localhost:8080/",
          "height": 312
        },
        "outputId": "8249c32d-eebb-4bd7-8473-e864b1eb4ae1"
      },
      "source": [
        "my_ns_prob = KBanditProblem(num_of_channels**len(sniffers))\n",
        "my_ucb = UCB(my_ns_prob,TAU)\n",
        "my_ucb.solve(1.5)\n",
        "my_ucb.print_rewards()"
      ],
      "execution_count": 105,
      "outputs": [
        {
          "output_type": "stream",
          "text": [
            "No handles with labels found to put in legend.\n"
          ],
          "name": "stderr"
        },
        {
          "output_type": "display_data",
          "data": {
            "image/png": "[encoded data removed]",
            "text/plain": [
              "<Figure size 432x288 with 1 Axes>"
            ]
          },
          "metadata": {
            "tags": [],
            "needs_background": "light"
          }
        }
      ]
    },
    {
      "cell_type": "code",
      "metadata": {
        "id": "_4Rc4eqgsxi1",
        "colab_type": "code",
        "colab": {
          "base_uri": "https://localhost:8080/",
          "height": 312
        },
        "outputId": "027fa70a-697d-4043-f5a1-e2d32f690e2f"
      },
      "source": [
        "my_ucb.print_optimal_percentages()"
      ],
      "execution_count": 106,
      "outputs": [
        {
          "output_type": "stream",
          "text": [
            "No handles with labels found to put in legend.\n"
          ],
          "name": "stderr"
        },
        {
          "output_type": "display_data",
          "data": {
            "image/png": "[encoded data removed]",
            "text/plain": [
              "<Figure size 432x288 with 1 Axes>"
            ]
          },
          "metadata": {
            "tags": [],
            "needs_background": "light"
          }
        }
      ]
    },
    {
      "cell_type": "code",
      "metadata": {
        "id": "hCPSPgAit3rt",
        "colab_type": "code",
        "colab": {}
      },
      "source": [
        "class UCB(IndexPolicy):\n",
        "    \"\"\" The UCB policy for bounded bandits.\n",
        "    - Reference: [Lai & Robbins, 1985].\n",
        "    \"\"\"\n",
        "\n",
        "    def computeIndex(self, arm):\n",
        "        if self.pulls[arm] < 1:\n",
        "            return float('+inf')\n",
        "        else:\n",
        "            return (self.rewards[arm] / self.pulls[arm]) + sqrt((2 * log(self.t)) / self.pulls[arm])\n",
        "\n",
        "    def computeAllIndex(self):\n",
        "        \"\"\" Compute the current indexes for all arms, in a vectorized manner.\"\"\"\n",
        "        indexes = (self.rewards / self.pulls) + np.sqrt((2 * np.log(self.t)) / self.pulls)\n",
        "        indexes[self.pulls < 1] = float('+inf')\n",
        "        self.index[:] = indexes"
      ],
      "execution_count": 0,
      "outputs": []
    },
    {
      "cell_type": "code",
      "metadata": {
        "id": "EH1dmTsGtsDa",
        "colab_type": "code",
        "colab": {}
      },
      "source": [
        "#: Default parameter for alpha\n",
        "ALPHA = 1\n",
        "ALPHA = 4\n",
        "\n",
        "\n",
        "class UCBalpha(UCB):\n",
        "    \"\"\" The UCB1 (UCB-alpha) index policy, modified to take a random permutation order for the initial exploration of each arm (reduce collisions in the multi-players setting).\n",
        "    Reference: [Auer et al. 02].\n",
        "    \"\"\"\n",
        "\n",
        "    def __init__(self, nbArms, alpha=ALPHA, lower=0., amplitude=1.):\n",
        "        super(UCBalpha, self).__init__(nbArms, lower=lower, amplitude=amplitude)\n",
        "        assert alpha >= 0, \"Error: the alpha parameter for UCBalpha class has to be >= 0.\"  # DEBUG\n",
        "        self.alpha = alpha  #: Parameter alpha\n",
        "\n",
        "    def __str__(self):\n",
        "        return r\"UCB($\\alpha={:.3g}$)\".format(self.alpha)\n",
        "\n",
        "    def computeIndex(self, arm):\n",
        "        r\"\"\" Compute the current index, at time t and after :math:`N_k(t)` pulls of arm k:\n",
        "        .. math:: I_k(t) = \\frac{X_k(t)}{N_k(t)} + \\sqrt{\\frac{\\alpha \\log(t)}{2 N_k(t)}}.\n",
        "        \"\"\"\n",
        "        if self.pulls[arm] < 1:\n",
        "            return float('+inf')\n",
        "        else:\n",
        "            return (self.rewards[arm] / self.pulls[arm]) + sqrt((self.alpha * log(self.t)) / (2 * self.pulls[arm]))\n",
        "\n",
        "    def computeAllIndex(self):\n",
        "        \"\"\" Compute the current indexes for all arms, in a vectorized manner.\"\"\"\n",
        "        indexes = (self.rewards / self.pulls) + np.sqrt((self.alpha * np.log(self.t)) / (2 * self.pulls))\n",
        "        indexes[self.pulls < 1] = float('+inf')\n",
        "        self.index[:] = indexes"
      ],
      "execution_count": 0,
      "outputs": []
    },
    {
      "cell_type": "code",
      "metadata": {
        "id": "dD8FaI6Lql-X",
        "colab_type": "code",
        "colab": {}
      },
      "source": [
        "#: Default parameter for alpha.\n",
        "ALPHA = 1\n",
        "\n",
        "#: Default parameter for gamma.\n",
        "GAMMA = 0.99\n",
        "\n",
        "\n",
        "class DiscountedUCB(UCBalpha):\n",
        "\n",
        "    def __init__(self, nbArms,\n",
        "                 alpha=ALPHA, gamma=GAMMA,\n",
        "                 useRealDiscount=True,\n",
        "                 *args, **kwargs):\n",
        "        super(DiscountedUCB, self).__init__(nbArms, *args, **kwargs)\n",
        "        self.discounted_pulls = np.zeros(nbArms)  #: Number of pulls of each arms\n",
        "        self.discounted_rewards = np.zeros(nbArms)  #: Cumulated rewards of each arms\n",
        "        assert alpha >= 0, \"Error: the 'alpha' parameter for DiscountedUCB class has to be >= 0.\"  # DEBUG\n",
        "        self.alpha = alpha  #: Parameter alpha\n",
        "        assert 0 < gamma <= 1, \"Error: the 'gamma' parameter for DiscountedUCB class has to be 0 < gamma <= 1.\"  # DEBUG\n",
        "        if np.isclose(gamma, 1):\n",
        "            print(\"Warning: using DiscountedUCB with 'gamma' too close to 1 will result in UCBalpha, you should rather use it...\")  # DEBUG\n",
        "        self.gamma = gamma  #: Parameter gamma\n",
        "        self.delta_time_steps = np.zeros(self.nbArms, dtype=int)  #: Keep memory of the :math:`\\Delta_k(t)` for each time step.\n",
        "        self.useRealDiscount = useRealDiscount  #: Flag to know if the real update should be used, the one with a multiplication by :math:`\\gamma^{1+\\Delta_k(t)}` and not simply a multiplication by :math:`\\gamma`.\n",
        "\n",
        "    def __str__(self):\n",
        "        return r\"D-UCB({}$\\gamma={:.5g}${})\".format(\n",
        "            \"no delay, \" if not self.useRealDiscount else \"\",\n",
        "            self.gamma,\n",
        "            \", $\\alpha={:.3g}$\".format(self.alpha) if self.alpha != ALPHA else \"\",\n",
        "        )\n",
        "\n",
        "    def getReward(self, arm, reward):\n",
        "        super(DiscountedUCB, self).getReward(arm, reward)\n",
        "        # FIXED we should multiply by gamma^delta where delta is the number of time steps where we didn't play this arm, +1\n",
        "        self.discounted_pulls *= self.gamma\n",
        "        self.discounted_rewards *= self.gamma\n",
        "        self.discounted_pulls[arm] += 1\n",
        "        reward = (reward - self.lower) / self.amplitude\n",
        "        self.discounted_rewards[arm] += reward\n",
        "        # XXX self.discounted_pulls[arm] += 1  # if we were using N_k(t) and not N_{k,gamma}(t).\n",
        "        # Ok and we saw this arm so no delta now\n",
        "        if self.useRealDiscount:\n",
        "            self.delta_time_steps += 1  # increase delay for each algorithms\n",
        "            self.delta_time_steps[arm] = 0\n",
        "\n",
        "    def computeIndex(self, arm):\n",
        "        if self.discounted_pulls[arm] < 1:\n",
        "            return float('+inf')\n",
        "        else:\n",
        "            n_t_gamma = np.sum(self.discounted_pulls)\n",
        "            assert n_t_gamma <= self.t, \"Error: n_t_gamma was computed as {:.3g} but should be < t = {:.3g}...\".format(n_t_gamma, self.t)  # DEBUG\n",
        "            return (self.discounted_rewards[arm] / self.discounted_pulls[arm]) + sqrt((self.alpha * log(n_t_gamma)) / (2 * self.discounted_pulls[arm]))\n",
        "\n",
        "    def computeAllIndex(self):\n",
        "        \"\"\" Compute the current indexes for all arms, in a vectorized manner.\"\"\"\n",
        "        n_t_gamma = np.sum(self.discounted_pulls)\n",
        "        assert n_t_gamma <= self.t, \"Error: n_t_gamma was computed as {:.3g} but should be < t = {:.3g}...\".format(n_t_gamma, self.t)  # DEBUG\n",
        "        indexes = (self.discounted_rewards / self.discounted_pulls) + np.sqrt((self.alpha * np.log(n_t_gamma)) / (2 * self.discounted_pulls))\n",
        "        indexes[self.discounted_pulls < 1] = float('+inf')\n",
        "        self.index[:] = indexes\n",
        "\n"
      ],
      "execution_count": 0,
      "outputs": []
    },
    {
      "cell_type": "code",
      "metadata": {
        "id": "X1sM2W1QuQ0G",
        "colab_type": "code",
        "colab": {}
      },
      "source": [
        "class KBanditSolution_DUCB:\n",
        "    def __init__(self, problem, steps):\n",
        "        self.problem = problem\n",
        "        self.steps = steps\n",
        "        self.my_policy = DiscountedUCB(num_of_channels**len(sniffers))#in MAB, number of Arms = num_of_channels**num_of_sniffers in Sniffer-channel assignment problem\n",
        "        self.my_policy.startGame() \n",
        "        \n",
        "        self.average_reward = 0\n",
        "        self.average_rewards = np.array([])\n",
        "        self.optimal_percentage = 0\n",
        "        self.optimal_precentages = np.array([])\n",
        "\n",
        "    def print_rewards(self):\n",
        "        p_steps = np.arange(self.steps)\n",
        "        plt.plot(p_steps,self.average_rewards)\n",
        "        plt.xlabel('Steps')\n",
        "        plt.ylabel('Average_rewards')\n",
        "        plt.title(\"Steps vs Average_rewards\")\n",
        "        plt.legend()\n",
        "        plt.show()\n",
        "    \n",
        "    def print_optimal_percentages(self):\n",
        "        p_steps = np.arange(self.steps)\n",
        "        plt.plot(p_steps,self.optimal_precentages)\n",
        "        plt.xlabel('Steps')\n",
        "        plt.ylabel('Optimal_percentages')\n",
        "        plt.title(\"Steps vs Optimal_percentages\")\n",
        "        plt.legend()\n",
        "        plt.show() \n",
        "    def count_statistics(self, action, reward, step):\n",
        "        self.average_reward += (1 / (step + 1)) * (reward - self.average_reward)\n",
        "        self.optimal_percentage += (1 / (step + 1)) * ((1 if action == self.problem.optimal else 0) - self.optimal_percentage)\n",
        "        self.average_rewards = np.append(self.average_rewards, self.average_reward)\n",
        "        self.optimal_precentages = np.append(self.optimal_precentages, self.optimal_percentage)"
      ],
      "execution_count": 0,
      "outputs": []
    },
    {
      "cell_type": "code",
      "metadata": {
        "id": "CjkazMy2up4E",
        "colab_type": "code",
        "colab": {}
      },
      "source": [
        "class DUCB(KBanditSolution_DUCB):\n",
        "    def __init__(self,problem, steps):\n",
        "        super(DUCB, self).__init__(problem, steps)\n",
        "\n",
        "    def count_ucb(self, q, c, step, n):\n",
        "        if n == 0:\n",
        "            return sys.maxsize\n",
        "        return (q + (c * math.sqrt((math.log10(step) / n))))\n",
        "    \n",
        "    def solve(self, c):\n",
        "        Q = {i: 0 for i in range(num_of_channels**len(sniffers))} # 1. Value function        \n",
        "        N = {i: 0 for i in range(num_of_channels**len(sniffers))} # 2. Number of actions, for update rule\n",
        "\n",
        "        for i in range(self.steps): # 3. Main loop\n",
        "            Q_ucb = {i: self.count_ucb(Q[i], c, i + 1, N[i]) for i in range(num_of_channels**len(sniffers))} # 4. Count UCB\n",
        "            #action = max(Q_ucb, key=Q_ucb.get) # 5. Choose action with maximum UCB\n",
        "            action = my_policy.choice()\n",
        "\n",
        "            reward = self.problem.generate_reward(action) # 6. Get reward for current action\n",
        "            N[action] += 1 # 7. Update action number\n",
        "            Q[action] += (1 / N[action]) * (reward - Q[action]) # 8. Update value dict \n",
        "            self.count_statistics(action, reward, i)"
      ],
      "execution_count": 0,
      "outputs": []
    },
    {
      "cell_type": "code",
      "metadata": {
        "id": "sMT-VVVxu9eN",
        "colab_type": "code",
        "colab": {
          "base_uri": "https://localhost:8080/",
          "height": 312
        },
        "outputId": "40154833-6c51-490a-c36d-9395d13c789b"
      },
      "source": [
        "my_ducb = DUCB(my_ns_prob,TAU)\n",
        "my_ducb.solve(1.5)\n",
        "my_ducb.print_rewards()"
      ],
      "execution_count": 119,
      "outputs": [
        {
          "output_type": "stream",
          "text": [
            "No handles with labels found to put in legend.\n"
          ],
          "name": "stderr"
        },
        {
          "output_type": "display_data",
          "data": {
            "image/png": "[encoded data removed]",
            "text/plain": [
              "<Figure size 432x288 with 1 Axes>"
            ]
          },
          "metadata": {
            "tags": [],
            "needs_background": "light"
          }
        }
      ]
    },
    {
      "cell_type": "code",
      "metadata": {
        "id": "J94LSzC1vEzx",
        "colab_type": "code",
        "colab": {
          "base_uri": "https://localhost:8080/",
          "height": 312
        },
        "outputId": "78e53083-a314-4ee3-e115-4d059c56f070"
      },
      "source": [
        "my_ducb.print_optimal_percentages()"
      ],
      "execution_count": 120,
      "outputs": [
        {
          "output_type": "stream",
          "text": [
            "No handles with labels found to put in legend.\n"
          ],
          "name": "stderr"
        },
        {
          "output_type": "display_data",
          "data": {
            "image/png": "[encoded data removed]",
            "text/plain": [
              "<Figure size 432x288 with 1 Axes>"
            ]
          },
          "metadata": {
            "tags": [],
            "needs_background": "light"
          }
        }
      ]
    }
  ]
}